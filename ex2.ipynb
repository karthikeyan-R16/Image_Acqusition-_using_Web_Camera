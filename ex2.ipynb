{
 "cells": [
  {
   "cell_type": "code",
   "execution_count": 7,
   "metadata": {},
   "outputs": [],
   "source": [
    "import cv2\n",
    "obj = cv2.VideoCapture(0)\n",
    "while True:\n",
    "    cap,frame = obj.read()\n",
    "    if not cap:\n",
    "        break\n",
    "    cv2.imshow('video',frame)\n",
    "    cv2.imwrite('picture.jpg',frame)\n",
    "    if cv2.waitKey(1) == ord('q'):\n",
    "        break\n",
    "obj.release()\n",
    "cv2.destroyAllWindows()"
   ]
  },
  {
   "cell_type": "code",
   "execution_count": 8,
   "metadata": {},
   "outputs": [],
   "source": [
    "img = cv2.VideoCapture(0)\n",
    "while True:\n",
    "    image,frame = img.read()\n",
    "    cv2.imshow('pic',frame) \n",
    "    if cv2.waitKey(1)==ord('q'):\n",
    "        break\n",
    "img.release()\n",
    "cv2.destroyAllWindows()"
   ]
  },
  {
   "cell_type": "code",
   "execution_count": 9,
   "metadata": {},
   "outputs": [],
   "source": [
    "import numpy as np\n",
    "capture = cv2.VideoCapture(0)\n",
    "while True:\n",
    "    ret,frame=capture.read()\n",
    "    if not ret:\n",
    "        break\n",
    "    height,width = frame.shape[:2]\n",
    "    smaller_frame=cv2.resize(frame,(width//2,height//2))\n",
    "    image = np.zeros((height,width,3),dtype=np.uint8)\n",
    "    image[:height//2,:width//2]=smaller_frame\n",
    "    image[height//2:, :width//2]=smaller_frame\n",
    "    image[:height//2, width//2:]=smaller_frame\n",
    "    image[height//2:, width//2:]=smaller_frame\n",
    "\n",
    "    cv2.imshow('PIC',smaller_frame)\n",
    "    \n",
    "    if cv2.waitKey(1)==ord('q'):\n",
    "        break\n",
    "capture.release()\n",
    "cv2.destroyAllWindows()"
   ]
  },
  {
   "cell_type": "code",
   "execution_count": 10,
   "metadata": {},
   "outputs": [],
   "source": [
    "capture = cv2.VideoCapture(0)\n",
    "while True:\n",
    "    ret,frame=capture.read()\n",
    "    if not ret:\n",
    "        break\n",
    "    height,width = frame.shape[:2]\n",
    "    smaller_frame = cv2.resize(frame,(width//2,height//2))\n",
    "    image = np.zeros((height,width,3),dtype=np.uint8)\n",
    "\n",
    "    image[:height//2,:width//2]=cv2.rotate(smaller_frame,cv2.ROTATE_180)\n",
    "    image[height//2:, :width//2]=smaller_frame\n",
    "    image[:height//2, width//2:]=smaller_frame\n",
    "    image[height//2:, width//2:]=cv2.rotate(smaller_frame,cv2.ROTATE_180)\n",
    "    \n",
    "    cv2.imshow('ROTATE_PIC',image)\n",
    "    if cv2.waitKey(1) == ord('q'):\n",
    "        break\n",
    "capture.release()\n",
    "cv2.destroyAllWindows()"
   ]
  },
  {
   "cell_type": "code",
   "execution_count": null,
   "metadata": {},
   "outputs": [],
   "source": []
  }
 ],
 "metadata": {
  "kernelspec": {
   "display_name": "env",
   "language": "python",
   "name": "python3"
  },
  "language_info": {
   "codemirror_mode": {
    "name": "ipython",
    "version": 3
   },
   "file_extension": ".py",
   "mimetype": "text/x-python",
   "name": "python",
   "nbconvert_exporter": "python",
   "pygments_lexer": "ipython3",
   "version": "3.11.5"
  }
 },
 "nbformat": 4,
 "nbformat_minor": 2
}
